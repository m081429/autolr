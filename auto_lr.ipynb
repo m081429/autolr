{
 "cells": [
  {
   "cell_type": "code",
   "execution_count": 2,
   "metadata": {},
   "outputs": [],
   "source": [
    "from tensorflow.keras.callbacks import Callback\n",
    "import tensorflow.keras.backend as K\n",
    "import numpy as np\n",
    "import matplotlib.pyplot as plt"
   ]
  },
  {
   "cell_type": "code",
   "execution_count": 20,
   "metadata": {},
   "outputs": [],
   "source": [
    "from tensorflow.keras.callbacks import Callback\n",
    "import tensorflow.keras.backend as K\n",
    "import tensorflow as tf\n",
    "from tensorflow.keras.models import Sequential\n",
    "from tensorflow.keras.layers import Flatten, Dense\n",
    "from tensorflow.keras.optimizers import Adam\n",
    "from tensorflow.keras.callbacks import ModelCheckpoint\n",
    "from tensorflow.keras.models import Sequential\n",
    "from tensorflow.keras.layers import GlobalAveragePooling2D,Flatten, Dense\n",
    "from tensorflow.keras.datasets import fashion_mnist\n",
    "#from tensorflow.keras.applications.vgg16 import VGG16, preprocess_input\n",
    "from tensorflow.keras.applications.densenet import DenseNet201, preprocess_input\n",
    "from tensorflow.keras.preprocessing.image import ImageDataGenerator"
   ]
  },
  {
   "cell_type": "code",
   "execution_count": 8,
   "metadata": {},
   "outputs": [],
   "source": [
    "'''LRFinder class'''\n",
    "\n",
    "class LRFind(tf.keras.callbacks.Callback): \n",
    "    def __init__(self, min_lr, max_lr, n_rounds): \n",
    "        self.min_lr = min_lr\n",
    "        self.max_lr = max_lr\n",
    "        self.step_up = (max_lr / min_lr) ** (1 / n_rounds)\n",
    "        self.lrs = []\n",
    "        self.losses = []\n",
    "     \n",
    "    def on_train_begin(self, logs=None):\n",
    "        self.weights = self.model.get_weights()\n",
    "        self.model.optimizer.lr = self.min_lr\n",
    "\n",
    "    def on_train_batch_end(self, batch, logs=None):\n",
    "        self.lrs.append(self.model.optimizer.lr.numpy())\n",
    "        self.losses.append(logs[\"loss\"])\n",
    "        self.model.optimizer.lr = self.model.optimizer.lr * self.step_up\n",
    "        if self.model.optimizer.lr > self.max_lr:\n",
    "            self.model.stop_training = True\n",
    "        \n",
    "    def on_train_end(self, logs=None):\n",
    "        self.model.set_weights(self.weights)\n"
   ]
  },
  {
   "cell_type": "code",
   "execution_count": 12,
   "metadata": {},
   "outputs": [
    {
     "name": "stdout",
     "output_type": "stream",
     "text": [
      "Found 19000 images belonging to 2 classes.\n",
      "Found 6000 images belonging to 2 classes.\n"
     ]
    }
   ],
   "source": [
    "\n",
    "# 1. Load data and define Data Generators\n",
    "DATA_PATH = '/projects/shart/digital_pathology/data/dogs_vs_cats/images/'\n",
    "\n",
    "train_datagen = ImageDataGenerator(\n",
    "                rescale = 1. / 255,\n",
    "                 shear_range = 0.2,\n",
    "                  zoom_range = 0.2,\n",
    "            horizontal_flip = True)\n",
    "  \n",
    "test_datagen = ImageDataGenerator(rescale = 1. / 255)\n",
    "train_gen = train_datagen.flow_from_directory(DATA_PATH+'/train', target_size=(224, 224), batch_size = 64, class_mode ='binary')\n",
    "valid_gen = test_datagen.flow_from_directory(DATA_PATH+'/val', target_size=(224, 224), batch_size = 64, class_mode ='binary')"
   ]
  },
  {
   "cell_type": "code",
   "execution_count": null,
   "metadata": {},
   "outputs": [],
   "source": []
  },
  {
   "cell_type": "code",
   "execution_count": 26,
   "metadata": {},
   "outputs": [],
   "source": [
    "\n",
    "# 2. Initialize base model\n",
    "base_model = DenseNet201(include_top=False, input_shape=(224,224,3))\n",
    "\n",
    "        \n",
    "# 3. Freeze layers from the base model\n",
    "base_model.trainable = False\n",
    "#for layer in base_model.layers:\n",
    "#    layer.trainable=False\n",
    "\n",
    "                        \n",
    "# 4. Add Fully connected layer\n",
    "model = Sequential([base_model,\n",
    "                    GlobalAveragePooling2D(name='avg_pool'), Flatten(),\n",
    "                    Dense(1024, activation='relu'),\n",
    "                    Dense(1, activation='sigmoid')])\n",
    "\n",
    "\n",
    "model.compile(loss='binary_crossentropy', \\\n",
    "              metrics=['accuracy'], optimizer='adam')\n",
    "\n",
    "\n",
    "# 3. Fit using Callback\n",
    "EPOCHS=1\n",
    "lr_finder_steps = 250\n",
    "lr_find = LRFind(1e-6, 1e1, lr_finder_steps)\n",
    "\n",
    "\n",
    "#print(lr_find.lrs, lr_find.losses)"
   ]
  },
  {
   "cell_type": "code",
   "execution_count": 27,
   "metadata": {},
   "outputs": [
    {
     "name": "stdout",
     "output_type": "stream",
     "text": [
      "297/297 [==============================] - 382s 1s/step - loss: 28.8583 - accuracy: 0.7665\n"
     ]
    },
    {
     "data": {
      "text/plain": [
       "<tensorflow.python.keras.callbacks.History at 0x7f01ec04f0d0>"
      ]
     },
     "execution_count": 27,
     "metadata": {},
     "output_type": "execute_result"
    }
   ],
   "source": [
    "model.fit(train_gen,   callbacks=[lr_find], epochs=1)"
   ]
  },
  {
   "cell_type": "code",
   "execution_count": 28,
   "metadata": {},
   "outputs": [
    {
     "data": {
      "image/png": "[encoded data removed]",
      "text/plain": [
       "<Figure size 432x288 with 1 Axes>"
      ]
     },
     "metadata": {
      "needs_background": "light"
     },
     "output_type": "display_data"
    }
   ],
   "source": [
    "\n",
    "plt.plot(lr_find.lrs, lr_find.losses)\n",
    "plt.xscale('log')\n",
    "plt.show()"
   ]
  },
  {
   "cell_type": "code",
   "execution_count": null,
   "metadata": {},
   "outputs": [],
   "source": []
  },
  {
   "cell_type": "code",
   "execution_count": null,
   "metadata": {},
   "outputs": [],
   "source": []
  }
 ],
 "metadata": {
  "kernelspec": {
   "display_name": "Python 3",
   "language": "python",
   "name": "python3"
  },
  "language_info": {
   "codemirror_mode": {
    "name": "ipython",
    "version": 3
   },
   "file_extension": ".py",
   "mimetype": "text/x-python",
   "name": "python",
   "nbconvert_exporter": "python",
   "pygments_lexer": "ipython3",
   "version": "3.7.11"
  }
 },
 "nbformat": 4,
 "nbformat_minor": 4
}
